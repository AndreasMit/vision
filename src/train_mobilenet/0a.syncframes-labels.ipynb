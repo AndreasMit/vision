{
 "cells": [
  {
   "cell_type": "code",
   "execution_count": 1,
   "metadata": {
    "colab": {
     "base_uri": "https://localhost:8080/"
    },
    "executionInfo": {
     "elapsed": 37654,
     "status": "ok",
     "timestamp": 1656577763774,
     "user": {
      "displayName": "Andreas Mitakidis",
      "userId": "03111775518876947364"
     },
     "user_tz": -180
    },
    "id": "SaV3nWNJuYuh",
    "outputId": "dd24446b-3645-4fad-b11c-d580936b071d"
   },
   "outputs": [
    {
     "name": "stdout",
     "output_type": "stream",
     "text": [
      "Mounted at /content/drive\n"
     ]
    }
   ],
   "source": [
    "from google.colab import drive\n",
    "drive.mount('/content/drive')"
   ]
  },
  {
   "cell_type": "code",
   "execution_count": 1,
   "metadata": {},
   "outputs": [],
   "source": [
    "drivepath = '/content/drive/MyDrive/'\n",
    "localpath = '/home/rico/Desktop/diploma/'\n",
    "path = localpath"
   ]
  },
  {
   "cell_type": "code",
   "execution_count": 19,
   "metadata": {
    "executionInfo": {
     "elapsed": 258,
     "status": "ok",
     "timestamp": 1656578255294,
     "user": {
      "displayName": "Andreas Mitakidis",
      "userId": "03111775518876947364"
     },
     "user_tz": -180
    },
    "id": "zsEyHT-qwhW8"
   },
   "outputs": [],
   "source": [
    "import shutil\n",
    "import os"
   ]
  },
  {
   "cell_type": "code",
   "execution_count": 11,
   "metadata": {
    "executionInfo": {
     "elapsed": 251,
     "status": "ok",
     "timestamp": 1656577954051,
     "user": {
      "displayName": "Andreas Mitakidis",
      "userId": "03111775518876947364"
     },
     "user_tz": -180
    },
    "id": "GYMzO0mVufoB"
   },
   "outputs": [],
   "source": [
    "def loadlabels(path = \".\"):\n",
    "    return [ f[:-5] for f in sorted(os.listdir(path)) if f.endswith('.json')]\n",
    "\n",
    "labels = loadlabels(path + 'image_segmentation/Labels')"
   ]
  },
  {
   "cell_type": "code",
   "execution_count": 17,
   "metadata": {
    "executionInfo": {
     "elapsed": 257,
     "status": "ok",
     "timestamp": 1656578145101,
     "user": {
      "displayName": "Andreas Mitakidis",
      "userId": "03111775518876947364"
     },
     "user_tz": -180
    },
    "id": "9y6w8lIquzOs"
   },
   "outputs": [],
   "source": [
    "def loadimages(path = \".\"):\n",
    "    return [f[:-4] for f in sorted(os.listdir(path)) if f.endswith('.png')]\n",
    "\n",
    "images = loadimages(path + 'image_segmentation/frames')"
   ]
  },
  {
   "cell_type": "code",
   "execution_count": 22,
   "metadata": {
    "executionInfo": {
     "elapsed": 23564,
     "status": "ok",
     "timestamp": 1656578441627,
     "user": {
      "displayName": "Andreas Mitakidis",
      "userId": "03111775518876947364"
     },
     "user_tz": -180
    },
    "id": "HFRDkD11u664"
   },
   "outputs": [],
   "source": [
    "for label in labels:\n",
    "  src = path + 'image_segmentation/frames/'+str(label)+'.png'\n",
    "  dst = path + 'image_segmentation/FrPNG/'+ str(label)+'.png'\n",
    "  shutil.copyfile(src, dst)"
   ]
  },
  {
   "cell_type": "code",
   "execution_count": 25,
   "metadata": {
    "colab": {
     "base_uri": "https://localhost:8080/"
    },
    "executionInfo": {
     "elapsed": 249,
     "status": "ok",
     "timestamp": 1656578537474,
     "user": {
      "displayName": "Andreas Mitakidis",
      "userId": "03111775518876947364"
     },
     "user_tz": -180
    },
    "id": "b0c-CrNXv8Rq",
    "outputId": "bec4ddd5-a61b-4f5e-9932-dc1078a68612"
   },
   "outputs": [
    {
     "name": "stdout",
     "output_type": "stream",
     "text": [
      "After saving image:\n",
      "['1026.png', '1031.png', '1037.png', '1041.png', '1049.png', '1060.png', '1073.png', '1080.png', '1095.png', '1109.png', '1118.png', '1131.png', '1138.png', '1150.png', '1162.png', '1180.png', '1193.png', '1211.png', '1225.png', '1236.png', '1258.png', '1276.png', '1292.png', '1300.png', '1315.png', '1330.png', '135.png', '1379.png', '1385.png', '1395.png', '142.png', '1444.png', '1449.png', '1456.png', '1466.png', '1483.png', '1494.png', '1503.png', '151.png', '157.png', '1589.png', '1634.png', '1639.png', '1665.png', '170.png', '1702.png', '1738.png', '1826.png', '1830.png', '1836.png', '1837.png', '1841.png', '1852.png', '1863.png', '1869.png', '1878.png', '1894.png', '1912.png', '1937.png', '1965.png', '1988.png', '1999.png', '2012.png', '2048.png', '207.png', '2081.png', '2099.png', '2113.png', '2146.png', '216.png', '2166.png', '2179.png', '2187.png', '2194.png', '2203.png', '2212.png', '2230.png', '2254.png', '227.png', '2273.png', '228.png', '2295.png', '2358.png', '2367.png', '2376.png', '238.png', '2427.png', '2447.png', '2466.png', '2472.png', '2513.png', '2534.png', '2545.png', '2555.png', '2562.png', '260.png', '2617.png', '2634.png', '2768.png', '2790.png', '2809.png', '2823.png', '2846.png', '2875.png', '2893.png', '2934.png', '2969.png', '298.png', '3018.png', '3070.png', '3127.png', '3172.png', '321.png', '370.png', '384.png', '409.png', '431.png', '443.png', '456.png', '462.png', '474.png', '483.png', '489.png', '516.png', '565.png', '571.png', '579.png', '606.png', '625.png', '640.png', '665.png', '702.png', '715.png', '765.png', '774.png', '802.png', '812.png', '828.png', '841.png', '859.png', '873.png', '895.png', '902.png', '907.png', '913.png', '919.png', '926.png', '933.png', '941.png', '951.png', '955.png', '962.png', '970.png']\n"
     ]
    }
   ],
   "source": [
    "print(\"After saving image:\")  \n",
    "print(os.listdir(path + 'image_segmentation/FrPNG'))"
   ]
  },
  {
   "cell_type": "code",
   "execution_count": null,
   "metadata": {
    "id": "DcUVQkRYxkfL"
   },
   "outputs": [],
   "source": [
    "#about 10% of dataset- frames without target in it\n",
    "extra_frames = [115,\n",
    "    188,\n",
    "    680,\n",
    "    735,\n",
    "    788,\n",
    "    978,\n",
    "    980,\n",
    "    1002,\n",
    "    1346,\n",
    "    1405,\n",
    "    1434,\n",
    "    1531,\n",
    "    1567,\n",
    "    1720,\n",
    "    1772,\n",
    "    2319]"
   ]
  },
  {
   "cell_type": "code",
   "execution_count": null,
   "metadata": {},
   "outputs": [],
   "source": [
    "for frame in extra_frames:\n",
    "  src = path + 'image_segmentation/frames/'+str(frame)+'.png'\n",
    "  dst = path + 'image_segmentation/FrPNG/'+ str(frame)+'.png'\n",
    "  shutil.copyfile(src, dst)"
   ]
  }
 ],
 "metadata": {
  "colab": {
   "authorship_tag": "ABX9TyO/zD0eczRTxk/R1wwAJstc",
   "name": "synclabels-pict.ipynb",
   "provenance": []
  },
  "kernelspec": {
   "display_name": "Python 3",
   "language": "python",
   "name": "python3"
  },
  "language_info": {
   "codemirror_mode": {
    "name": "ipython",
    "version": 3
   },
   "file_extension": ".py",
   "mimetype": "text/x-python",
   "name": "python",
   "nbconvert_exporter": "python",
   "pygments_lexer": "ipython3",
   "version": "3.9.7"
  }
 },
 "nbformat": 4,
 "nbformat_minor": 1
}
