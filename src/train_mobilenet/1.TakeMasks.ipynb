{
 "cells": [
  {
   "cell_type": "code",
   "execution_count": null,
   "metadata": {},
   "outputs": [],
   "source": [
    "from google.colab import drive\n",
    "drive.mount('/content/drive')"
   ]
  },
  {
   "cell_type": "code",
   "execution_count": 1,
   "metadata": {},
   "outputs": [],
   "source": [
    "drivepath = '/content/drive/MyDrive/'\n",
    "localpath = '/home/rico/Desktop/diploma/'\n",
    "path = localpath"
   ]
  },
  {
   "cell_type": "code",
   "execution_count": 9,
   "metadata": {},
   "outputs": [
    {
     "name": "stdout",
     "output_type": "stream",
     "text": [
      "['1002', '1026', '1031', '1037', '1041', '1049', '1060', '1073', '1080', '1095', '1109', '1118', '1131', '1138', '115', '1150', '1162', '1180', '1193', '1211', '1225', '1236', '1258', '1276', '1292', '1300', '1315', '1330', '1346', '135', '1379', '1385', '1395', '1405', '142', '1434', '1444', '1449', '1456', '1466', '1483', '1494', '1503', '151', '1531', '1567', '157', '1589', '1634', '1639', '1665', '170', '1702', '1720', '1738', '1772', '1826', '1830', '1836', '1837', '1841', '1852', '1863', '1869', '1878', '188', '1894', '1912', '1937', '1965', '1988', '1999', '2012', '2048', '207', '2081', '2099', '2113', '2146', '216', '2166', '2179', '2187', '2194', '2203', '2212', '2230', '2254', '227', '2273', '228', '2295', '2319', '2358', '2367', '2376', '238', '2427', '2447', '2466', '2472', '2513', '2534', '2545', '2555', '2562', '260', '2617', '2634', '2768', '2790', '2809', '2823', '2846', '2875', '2893', '2934', '2969', '298', '3018', '3070', '3127', '3172', '321', '370', '384', '409', '431', '443', '456', '462', '474', '483', '489', '516', '565', '571', '579', '606', '625', '640', '665', '680', '702', '715', '735', '765', '774', '788', '802', '812', '828', '841', '859', '873', '895', '902', '907', '913', '919', '926', '933', '941', '951', '955', '962', '970', '978', '980']\n",
      "['1026', '1031', '1037', '1041', '1049', '1060', '1073', '1080', '1095', '1109', '1118', '1131', '1138', '1150', '1162', '1180', '1193', '1211', '1225', '1236', '1258', '1276', '1292', '1300', '1315', '1330', '135', '1379', '1385', '1395', '142', '1444', '1449', '1456', '1466', '1483', '1494', '1503', '151', '157', '1589', '1634', '1639', '1665', '170', '1702', '1738', '1826', '1830', '1836', '1837', '1841', '1852', '1863', '1869', '1878', '1894', '1912', '1937', '1965', '1988', '1999', '2012', '2048', '207', '2081', '2099', '2113', '2146', '216', '2166', '2179', '2187', '2194', '2203', '2212', '2230', '2254', '227', '2273', '228', '2295', '2358', '2367', '2376', '238', '2427', '2447', '2466', '2472', '2513', '2534', '2545', '2555', '2562', '260', '2617', '2634', '2768', '2790', '2809', '2823', '2846', '2875', '2893', '2934', '2969', '298', '3018', '3070', '3127', '3172', '321', '370', '384', '409', '431', '443', '456', '462', '474', '483', '489', '516', '565', '571', '579', '606', '625', '640', '665', '702', '715', '765', '774', '802', '812', '828', '841', '859', '873', '895', '902', '907', '913', '919', '926', '933', '941', '951', '955', '962', '970']\n"
     ]
    }
   ],
   "source": [
    "import cv2\n",
    "import numpy as np\n",
    "import json\n",
    "import os\n",
    "import matplotlib.pyplot as plt\n",
    "\n",
    "def loadimages(path = \".\"):\n",
    "    return [ f[:-4] for f in sorted(os.listdir(path)) if f.endswith('.png')]\n",
    "def loadlabels(path = \".\"):\n",
    "    return [f[:-5] for f in sorted(os.listdir(path)) if f.endswith('.json')]\n",
    "\n",
    "num=0\n",
    "\n",
    "path1= path + 'image_segmentation/FrPNG/'\n",
    "path2= path + 'image_segmentation/Labels/'\n",
    "\n",
    "filenames=loadimages(path1)\n",
    "filelabels=loadlabels(path2)\n",
    "\n",
    "for file in filelabels:\n",
    "    \n",
    "    with open(path2 + file+ '.json') as json_file:\n",
    "        data = json.load(json_file)\n",
    "    pnt=data['shapes']\n",
    "    \n",
    "    mask=np.zeros((376,672))\n",
    "    for j in  range(len(pnt)):\n",
    "        pnto=pnt[j]\n",
    "        xx=[]\n",
    "        \n",
    "        pnto=pnto.get('points')\n",
    "        for i in range(len(pnto)):\n",
    "            x , y = pnto[i]\n",
    "            x=int(x)\n",
    "            y=int(y)\n",
    "            xx.append((x,y))\n",
    "        polygon=np.asarray(xx, dtype=None, order=None)\n",
    "        polygon=np.array([polygon])\n",
    "        cv2.fillPoly(mask, polygon, (255,255,255), lineType=4, shift=0)\n",
    "    \n",
    "    cv2.imwrite(path + 'image_segmentation/Masks/Mask'+ str(file) +'.png',mask)\n",
    "                \n"
   ]
  },
  {
   "cell_type": "code",
   "execution_count": 10,
   "metadata": {},
   "outputs": [
    {
     "name": "stdout",
     "output_type": "stream",
     "text": [
      "After saving masks:\n",
      "['Mask2969.png', 'Mask516.png', 'Mask298.png', 'Mask409.png', 'Mask1449.png', 'Mask2534.png', 'Mask1852.png', 'Mask2617.png', 'Mask812.png', 'Mask1830.png', 'Mask3018.png', 'Mask1483.png', 'Mask1080.png', 'Mask1702.png', 'Mask1211.png', 'Mask702.png', 'Mask1031.png', 'Mask2934.png', 'Mask1236.png', 'Mask1444.png', 'Mask828.png', 'Mask474.png', 'Mask962.png', 'Mask1639.png', 'Mask2099.png', 'Mask606.png', 'Mask2809.png', 'Mask2166.png', 'Mask2212.png', 'Mask2790.png', 'Mask370.png', 'Mask1109.png', 'Mask2846.png', 'Mask902.png', 'Mask765.png', 'Mask260.png', 'Mask1894.png', 'Mask1131.png', 'Mask238.png', 'Mask1503.png', 'Mask2273.png', 'Mask2113.png', 'Mask431.png', 'Mask1988.png', 'Mask1037.png', 'Mask462.png', 'Mask1863.png', 'Mask2427.png', 'Mask2562.png', 'Mask2146.png', 'Mask2513.png', 'Mask1225.png', 'Mask919.png', 'Mask227.png', 'Mask625.png', 'Mask1049.png', 'Mask2823.png', 'Mask907.png', 'Mask2187.png', 'Mask970.png', 'Mask1292.png', 'Mask2634.png', 'Mask228.png', 'Mask565.png', 'Mask2466.png', 'Mask1276.png', 'Mask1150.png', 'Mask2179.png', 'Mask1466.png', 'Mask3070.png', 'Mask873.png', 'Mask926.png', 'Mask895.png', 'Mask1060.png', 'Mask1193.png', 'Mask2472.png', 'Mask1041.png', 'Mask2358.png', 'Mask456.png', 'Mask1589.png', 'Mask207.png', 'Mask1965.png', 'Mask841.png', 'Mask1826.png', 'Mask579.png', 'Mask3172.png', 'Mask665.png', 'Mask1385.png', 'Mask1026.png', 'Mask1395.png', 'Mask571.png', 'Mask1837.png', 'Mask1836.png', 'Mask1869.png', 'Mask2081.png', 'Mask2203.png', 'Mask443.png', 'Mask859.png', 'Mask2376.png', 'Mask802.png', 'Mask2367.png', 'Mask384.png', 'Mask2545.png', 'Mask1180.png', 'Mask2447.png', 'Mask774.png', 'Mask321.png', 'Mask483.png', 'Mask1999.png', 'Mask2012.png', 'Mask1330.png', 'Mask1665.png', 'Mask2230.png', 'Mask1456.png', 'Mask1841.png', 'Mask1138.png', 'Mask170.png', 'Mask151.png', 'Mask216.png', 'Mask3127.png', 'Mask640.png', 'Mask2254.png', 'Mask1315.png', 'Mask142.png', 'Mask1162.png', 'Mask1095.png', 'Mask941.png', 'Mask1738.png', 'Mask1937.png', 'Mask1073.png', 'Mask951.png', 'Mask1912.png', 'Mask489.png', 'Mask913.png', 'Mask933.png', 'Mask1494.png', 'Mask1634.png', 'Mask2875.png', 'Mask2295.png', 'Mask1118.png', 'Mask1258.png', 'Mask157.png', 'Mask2768.png', 'Mask2555.png', 'Mask1300.png', 'Mask1379.png', 'Mask2194.png', 'Mask955.png', 'Mask2893.png', 'Mask2048.png', 'Mask715.png', 'Mask135.png', 'Mask1878.png']\n"
     ]
    }
   ],
   "source": [
    "print(\"After saving masks:\")  \n",
    "print(os.listdir(path + 'image_segmentation/Masks'))"
   ]
  },
  {
   "cell_type": "code",
   "execution_count": 11,
   "metadata": {},
   "outputs": [],
   "source": [
    "extra_masks = [115,\n",
    "    188,\n",
    "    680,\n",
    "    735,\n",
    "    788,\n",
    "    978,\n",
    "    980,\n",
    "    1002,\n",
    "    1346,\n",
    "    1405,\n",
    "    1434,\n",
    "    1531,\n",
    "    1567,\n",
    "    1720,\n",
    "    1772,\n",
    "    2319]"
   ]
  },
  {
   "cell_type": "code",
   "execution_count": 13,
   "metadata": {},
   "outputs": [],
   "source": [
    "black = np.zeros((376,672))\n",
    "\n",
    "for mask in extra_masks:\n",
    "    cv2.imwrite(path + 'image_segmentation/Masks/Mask'+ str(mask) +'.png',black)"
   ]
  },
  {
   "cell_type": "code",
   "execution_count": null,
   "metadata": {},
   "outputs": [],
   "source": []
  }
 ],
 "metadata": {
  "kernelspec": {
   "display_name": "Python 3",
   "language": "python",
   "name": "python3"
  },
  "language_info": {
   "codemirror_mode": {
    "name": "ipython",
    "version": 3
   },
   "file_extension": ".py",
   "mimetype": "text/x-python",
   "name": "python",
   "nbconvert_exporter": "python",
   "pygments_lexer": "ipython3",
   "version": "3.6.9"
  }
 },
 "nbformat": 4,
 "nbformat_minor": 2
}
