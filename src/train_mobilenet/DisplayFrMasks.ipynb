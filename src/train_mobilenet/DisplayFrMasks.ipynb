{
 "cells": [
  {
   "cell_type": "code",
   "execution_count": null,
   "metadata": {},
   "outputs": [],
   "source": [
    "from google.colab import drive\n",
    "drive.mount('/content/drive')"
   ]
  },
  {
   "cell_type": "code",
   "execution_count": 2,
   "metadata": {},
   "outputs": [],
   "source": [
    "drivepath = '/content/drive/MyDrive/'\n",
    "localpath = '/home/rico/Desktop/diploma/'\n",
    "path = localpath"
   ]
  },
  {
   "cell_type": "code",
   "execution_count": null,
   "metadata": {},
   "outputs": [],
   "source": [
    "#1\n",
    "path1= path + 'image_segmentation/FrPNG/'\n",
    "path2= path + 'image_segmentation/Masks/'\n",
    "#2\n",
    "# path1= path + 'image_segmentation/AugFr/'\n",
    "# path2= path + 'image_segmentation/AugMasks/'\n",
    "#3\n",
    "# path1= path + 'TestFr'\n",
    "# path2='outputs'\n",
    "#4\n",
    "# path1= path + 'image_segmentation/ResizedFr/'\n",
    "# path2= path + 'image_segmentation/ResizedMasks/'"
   ]
  },
  {
   "cell_type": "code",
   "execution_count": 21,
   "metadata": {},
   "outputs": [
    {
     "ename": "error",
     "evalue": "OpenCV(4.6.0) /io/opencv/modules/core/src/arithm.cpp:212: error: (-209:Sizes of input arguments do not match) The operation is neither 'array op array' (where arrays have the same size and type), nor 'array op scalar', nor 'scalar op array' in function 'binary_op'\n",
     "output_type": "error",
     "traceback": [
      "\u001b[0;31m---------------------------------------------------------------------------\u001b[0m",
      "\u001b[0;31merror\u001b[0m                                     Traceback (most recent call last)",
      "\u001b[0;32m<ipython-input-21-9aacfda97874>\u001b[0m in \u001b[0;36m<module>\u001b[0;34m\u001b[0m\n\u001b[1;32m     22\u001b[0m     \u001b[0mred_mask\u001b[0m\u001b[0;34m[\u001b[0m\u001b[0;34m:\u001b[0m\u001b[0;34m]\u001b[0m \u001b[0;34m=\u001b[0m \u001b[0mcolor\u001b[0m\u001b[0;34m\u001b[0m\u001b[0;34m\u001b[0m\u001b[0m\n\u001b[1;32m     23\u001b[0m \u001b[0;34m\u001b[0m\u001b[0m\n\u001b[0;32m---> 24\u001b[0;31m     \u001b[0mcopy_mask\u001b[0m \u001b[0;34m=\u001b[0m \u001b[0mcv2\u001b[0m\u001b[0;34m.\u001b[0m\u001b[0mbitwise_and\u001b[0m\u001b[0;34m(\u001b[0m\u001b[0mmask\u001b[0m\u001b[0;34m,\u001b[0m\u001b[0mred_mask\u001b[0m\u001b[0;34m)\u001b[0m\u001b[0;34m\u001b[0m\u001b[0;34m\u001b[0m\u001b[0m\n\u001b[0m\u001b[1;32m     25\u001b[0m \u001b[0;34m\u001b[0m\u001b[0m\n\u001b[1;32m     26\u001b[0m     \u001b[0mcombo_image\u001b[0m \u001b[0;34m=\u001b[0m \u001b[0mcv2\u001b[0m\u001b[0;34m.\u001b[0m\u001b[0maddWeighted\u001b[0m\u001b[0;34m(\u001b[0m\u001b[0mimage\u001b[0m\u001b[0;34m,\u001b[0m \u001b[0;36m1\u001b[0m\u001b[0;34m,\u001b[0m \u001b[0mcopy_mask\u001b[0m\u001b[0;34m,\u001b[0m\u001b[0;36m0.35\u001b[0m \u001b[0;34m,\u001b[0m\u001b[0;36m1\u001b[0m\u001b[0;34m)\u001b[0m\u001b[0;34m\u001b[0m\u001b[0;34m\u001b[0m\u001b[0m\n",
      "\u001b[0;31merror\u001b[0m: OpenCV(4.6.0) /io/opencv/modules/core/src/arithm.cpp:212: error: (-209:Sizes of input arguments do not match) The operation is neither 'array op array' (where arrays have the same size and type), nor 'array op scalar', nor 'scalar op array' in function 'binary_op'\n"
     ]
    }
   ],
   "source": [
    "import cv2\n",
    "import numpy as np\n",
    "#import json\n",
    "import os\n",
    "\n",
    "def loadimages(path = \".\"):\n",
    "    return [ f for f in sorted(os.listdir(path)) if f.endswith('.png')]\n",
    "\n",
    "\n",
    "filenames=loadimages(path1)\n",
    "filelabels=loadimages(path2)\n",
    "\n",
    "red = (255, 0, 0)\n",
    "\n",
    "for file in filenames:\n",
    "    image=cv2.imread(path1 + file )\n",
    "    mask =cv2.imread(path2 + 'Mask'+  file )\n",
    "    (x, y, z) = image.shape\n",
    "    red_mask = np.zeros((x, y, z), np.uint8)\n",
    "    color = tuple(reversed(red))\n",
    "    red_mask[:] = color\n",
    "    \n",
    "    copy_mask = cv2.bitwise_and(mask,red_mask)\n",
    "    \n",
    "    combo_image = cv2.addWeighted(image, 1, copy_mask,0.35 ,1)\n",
    "    #1\n",
    "    cv2.imwrite( path + 'image_segmentation/displayfrmasks/'+str(file), combo_image)\n",
    "    #2\n",
    "#     cv2.imwrite( path + 'image_segmentation/displayfrmasks_aug/'+str(file), combo_image)\n",
    "    #3\n",
    "#     cv2.imwrite(path + 'image_segmentation/displayfrmasks_pred/'+str(file), combo_image)\n",
    "    #4\n",
    "#     cv2.imwrite( path + 'image_segmentation/displayfrmasks_resized/'+str(file), combo_image)"
   ]
  },
  {
   "cell_type": "code",
   "execution_count": 22,
   "metadata": {},
   "outputs": [
    {
     "name": "stdout",
     "output_type": "stream",
     "text": [
      "After saving:\n",
      "['735.png', '1026.png', '625.png', '1830.png', '1503.png', '3127.png', '1988.png', '2875.png', '1193.png', '1878.png', '1869.png', '1665.png', '1060.png', '1379.png', '774.png', '1405.png', '2048.png', '2099.png', '2367.png', '1180.png', '2768.png', '828.png', '1634.png', '516.png', '157.png', '1276.png', '1049.png', '260.png', '1162.png', '1567.png', '2358.png', '238.png', '1841.png', '2212.png', '1449.png', '2012.png', '456.png', '571.png', '1031.png', '1837.png', '1444.png', '2555.png', '1912.png', '2203.png', '2809.png', '2617.png', '2447.png', '2146.png', '483.png', '384.png', '2166.png', '1589.png', '142.png', '1037.png', '1211.png', '2534.png', '1346.png', '1118.png', '298.png', '788.png', '1772.png', '1937.png', '135.png', '1720.png', '2545.png', '1292.png', '1150.png', '228.png', '489.png', '680.png', '902.png', '702.png', '1330.png', '170.png', '1109.png', '227.png', '1073.png', '2179.png', '1863.png', '2295.png', '1836.png', '665.png', '2472.png', '640.png', '1300.png', '151.png', '370.png', '2823.png', '2893.png', '431.png', '1965.png', '895.png', '1385.png', '443.png', '1395.png', '3172.png', '941.png', '2634.png', '2790.png', '1999.png', '321.png', '951.png', '474.png', '2846.png', '1894.png', '216.png', '1095.png', '2230.png', '1639.png', '1702.png', '2113.png', '1138.png', '565.png', '2376.png', '2513.png', '2466.png', '933.png', '188.png', '765.png', '913.png', '3070.png', '1466.png', '1738.png', '955.png', '841.png', '1258.png', '462.png', '715.png', '859.png', '2081.png', '1494.png', '1852.png', '1315.png', '2934.png', '1041.png', '926.png', '962.png', '873.png', '1131.png', '2969.png', '1225.png', '3018.png', '812.png', '1826.png', '1456.png', '409.png', '2273.png', '115.png', '1002.png', '2187.png', '1236.png', '1434.png', '1483.png', '207.png', '919.png', '606.png', '2562.png', '2254.png', '802.png', '2427.png', '2319.png', '2194.png', '1080.png', '907.png', '1531.png', '579.png']\n"
     ]
    }
   ],
   "source": [
    "print(\"After saving:\")  \n",
    "print(os.listdir( path + 'image_segmentation/displayfrmasks'))\n",
    "# print(os.listdir( path + 'image_segmentation/displayfrmasks_resized'))"
   ]
  },
  {
   "cell_type": "code",
   "execution_count": null,
   "metadata": {},
   "outputs": [],
   "source": []
  }
 ],
 "metadata": {
  "interpreter": {
   "hash": "e420cea34e741d9ec99e43b3c68efd28d0e4e8d2f2811c27a3114bf3cfc49cbf"
  },
  "kernelspec": {
   "display_name": "Python 3",
   "language": "python",
   "name": "python3"
  },
  "language_info": {
   "codemirror_mode": {
    "name": "ipython",
    "version": 3
   },
   "file_extension": ".py",
   "mimetype": "text/x-python",
   "name": "python",
   "nbconvert_exporter": "python",
   "pygments_lexer": "ipython3",
   "version": "3.6.9"
  }
 },
 "nbformat": 4,
 "nbformat_minor": 2
}
